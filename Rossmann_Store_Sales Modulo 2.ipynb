{
  "nbformat": 4,
  "nbformat_minor": 0,
  "metadata": {
    "colab": {
      "name": "Rossmann_Store_Sales.ipynb",
      "provenance": [],
      "collapsed_sections": [
        "U3xsStOiOC3T",
        "QjbsyZePOC1J",
        "Wfgl3jkVOCyi",
        "e5bSsuWLOCwM",
        "SZGnQaRDOCtj",
        "6iLqVIkcOlpq",
        "2n5AC8kyOlx3",
        "N3448ruzOl08",
        "zYxOtl0oFwGm",
        "OyrHMqQgIqN3",
        "RbXMpTtmNBh0"
      ]
    },
    "kernelspec": {
      "name": "python3",
      "display_name": "Python 3"
    },
    "language_info": {
      "name": "python"
    }
  },
  "cells": [
    {
      "cell_type": "markdown",
      "source": [
        "# 0.0. Imports"
      ],
      "metadata": {
        "id": "qv1yq09cNz8T"
      }
    },
    {
      "cell_type": "code",
      "execution_count": 59,
      "metadata": {
        "colab": {
          "base_uri": "https://localhost:8080/"
        },
        "id": "cXSJzQMmMJGf",
        "outputId": "b02f72f8-c5f4-4825-ad04-27ae6743d38f"
      },
      "outputs": [
        {
          "output_type": "stream",
          "name": "stdout",
          "text": [
            "Requirement already satisfied: inflection in /usr/local/lib/python3.7/dist-packages (0.5.1)\n"
          ]
        }
      ],
      "source": [
        "import pandas as pd\n",
        "import numpy as np\n",
        "!pip install inflection\n",
        "import inflection\n",
        "import math\n",
        "import seaborn as sns\n",
        "import matplotlib.pyplot as plt\n",
        "\n",
        "from IPython.core.display import HTML\n",
        "from IPython.display import Image"
      ]
    },
    {
      "cell_type": "markdown",
      "source": [
        "## 0.1. Helper Functions"
      ],
      "metadata": {
        "id": "M_MNFi4-OC_t"
      }
    },
    {
      "cell_type": "markdown",
      "source": [
        "## 0.2. Loading data"
      ],
      "metadata": {
        "id": "U3xsStOiOC3T"
      }
    },
    {
      "cell_type": "code",
      "source": [
        "df_sales_raw = pd.read_csv( '/content/train.csv', low_memory=False)\n",
        "df_store_raw = pd.read_csv ( '/content/store.csv', low_memory=False)\n",
        "\n",
        "# merge\n",
        "df_raw = pd.merge( df_sales_raw, df_store_raw, how='left', on='Store' )"
      ],
      "metadata": {
        "id": "gY4--VS0Oul6"
      },
      "execution_count": 2,
      "outputs": []
    },
    {
      "cell_type": "code",
      "source": [
        "df_raw.columns"
      ],
      "metadata": {
        "colab": {
          "base_uri": "https://localhost:8080/"
        },
        "id": "NTL6z18WQUZy",
        "outputId": "64023c44-1120-4621-a544-aa9bfbf90b81"
      },
      "execution_count": 3,
      "outputs": [
        {
          "output_type": "execute_result",
          "data": {
            "text/plain": [
              "Index(['Store', 'DayOfWeek', 'Date', 'Sales', 'Customers', 'Open', 'Promo',\n",
              "       'StateHoliday', 'SchoolHoliday', 'StoreType', 'Assortment',\n",
              "       'CompetitionDistance', 'CompetitionOpenSinceMonth',\n",
              "       'CompetitionOpenSinceYear', 'Promo2', 'Promo2SinceWeek',\n",
              "       'Promo2SinceYear', 'PromoInterval'],\n",
              "      dtype='object')"
            ]
          },
          "metadata": {},
          "execution_count": 3
        }
      ]
    },
    {
      "cell_type": "markdown",
      "source": [
        "# 1.0. Descrição dos dados"
      ],
      "metadata": {
        "id": "QjbsyZePOC1J"
      }
    },
    {
      "cell_type": "code",
      "source": [
        "df1 = df_raw.copy()"
      ],
      "metadata": {
        "id": "SM5epw1mRDZ8"
      },
      "execution_count": 4,
      "outputs": []
    },
    {
      "cell_type": "markdown",
      "source": [
        "## 1.1. Rename Columns"
      ],
      "metadata": {
        "id": "Wfgl3jkVOCyi"
      }
    },
    {
      "cell_type": "code",
      "source": [
        "cols_old = ['Store', 'DayOfWeek', 'Date', 'Sales', 'Customers', 'Open', 'Promo', 'StateHoliday', 'SchoolHoliday', 'StoreType', \n",
        "            'Assortment', 'CompetitionDistance', 'CompetitionOpenSinceMonth', 'CompetitionOpenSinceYear', 'Promo2', 'Promo2SinceWeek',\n",
        "       'Promo2SinceYear', 'PromoInterval']\n",
        "\n",
        "snakecase = lambda x: inflection.underscore( x )\n",
        "\n",
        "cols_new = list( map( snakecase, cols_old ) )\n",
        "\n",
        "# rename\n",
        "df1.columns = cols_new"
      ],
      "metadata": {
        "id": "LQs93nWRRKrF"
      },
      "execution_count": 5,
      "outputs": []
    },
    {
      "cell_type": "markdown",
      "source": [
        "## 1.2. Data Dimensions"
      ],
      "metadata": {
        "id": "e5bSsuWLOCwM"
      }
    },
    {
      "cell_type": "code",
      "source": [
        "print( 'Number of Rows: {}'.format( df1.shape[0] ) )\n",
        "print( 'Number of Cols: {}'.format( df1.shape[1] ) )"
      ],
      "metadata": {
        "colab": {
          "base_uri": "https://localhost:8080/"
        },
        "id": "7zryomCUStGk",
        "outputId": "cfbe4b5f-46e8-481d-ddbe-bee619ff146d"
      },
      "execution_count": 6,
      "outputs": [
        {
          "output_type": "stream",
          "name": "stdout",
          "text": [
            "Number of Rows: 1017209\n",
            "Number of Cols: 18\n"
          ]
        }
      ]
    },
    {
      "cell_type": "markdown",
      "source": [
        "## 1.3.  Data Types"
      ],
      "metadata": {
        "id": "SZGnQaRDOCtj"
      }
    },
    {
      "cell_type": "code",
      "source": [
        "df1['date'] = pd.to_datetime( df1['date'] )\n",
        "df1.dtypes"
      ],
      "metadata": {
        "colab": {
          "base_uri": "https://localhost:8080/"
        },
        "id": "PnBABJDlTWVq",
        "outputId": "8c5975df-92d1-4a67-b74e-be34cd7f6b66"
      },
      "execution_count": 7,
      "outputs": [
        {
          "output_type": "execute_result",
          "data": {
            "text/plain": [
              "store                                    int64\n",
              "day_of_week                              int64\n",
              "date                            datetime64[ns]\n",
              "sales                                    int64\n",
              "customers                                int64\n",
              "open                                     int64\n",
              "promo                                    int64\n",
              "state_holiday                           object\n",
              "school_holiday                           int64\n",
              "store_type                              object\n",
              "assortment                              object\n",
              "competition_distance                   float64\n",
              "competition_open_since_month           float64\n",
              "competition_open_since_year            float64\n",
              "promo2                                   int64\n",
              "promo2_since_week                      float64\n",
              "promo2_since_year                      float64\n",
              "promo_interval                          object\n",
              "dtype: object"
            ]
          },
          "metadata": {},
          "execution_count": 7
        }
      ]
    },
    {
      "cell_type": "markdown",
      "source": [
        "## 1.3. Check NA"
      ],
      "metadata": {
        "id": "6iLqVIkcOlpq"
      }
    },
    {
      "cell_type": "code",
      "source": [
        "df1.isna().sum()"
      ],
      "metadata": {
        "colab": {
          "base_uri": "https://localhost:8080/"
        },
        "id": "r1mW6rz5T2IV",
        "outputId": "a967eba2-7021-407e-a29a-7c7c5cd60e32"
      },
      "execution_count": 8,
      "outputs": [
        {
          "output_type": "execute_result",
          "data": {
            "text/plain": [
              "store                                0\n",
              "day_of_week                          0\n",
              "date                                 0\n",
              "sales                                0\n",
              "customers                            0\n",
              "open                                 0\n",
              "promo                                0\n",
              "state_holiday                        0\n",
              "school_holiday                       0\n",
              "store_type                           0\n",
              "assortment                           0\n",
              "competition_distance              2642\n",
              "competition_open_since_month    323348\n",
              "competition_open_since_year     323348\n",
              "promo2                               0\n",
              "promo2_since_week               508031\n",
              "promo2_since_year               508031\n",
              "promo_interval                  508031\n",
              "dtype: int64"
            ]
          },
          "metadata": {},
          "execution_count": 8
        }
      ]
    },
    {
      "cell_type": "markdown",
      "source": [
        "## 1.3. Fillout NA"
      ],
      "metadata": {
        "id": "2n5AC8kyOlx3"
      }
    },
    {
      "cell_type": "code",
      "source": [
        "df1['competition_distance'].max()"
      ],
      "metadata": {
        "colab": {
          "base_uri": "https://localhost:8080/"
        },
        "id": "HCIwHJ6VXOpF",
        "outputId": "a3c6025c-abbb-4ab7-abb6-51b97f6bc920"
      },
      "execution_count": 9,
      "outputs": [
        {
          "output_type": "execute_result",
          "data": {
            "text/plain": [
              "75860.0"
            ]
          },
          "metadata": {},
          "execution_count": 9
        }
      ]
    },
    {
      "cell_type": "code",
      "source": [
        "#competition_distance\n",
        "df1['competition_distance'] = df1['competition_distance'].apply( lambda x: 200000.0 if math.isnan( x ) else x )\n",
        "\n",
        "#competition_open_since_month   \n",
        "df1['competition_open_since_month'] = df1.apply( lambda x: x['date'].month if math.isnan( x['competition_open_since_month'] ) else x['competition_open_since_month' ], axis=1 )\n",
        "\n",
        "#competition_open_since_year  \n",
        "df1['competition_open_since_year'] = df1.apply( lambda x: x['date'].month if math.isnan( x['competition_open_since_year'] ) else x['competition_open_since_year' ], axis=1 )\n",
        "               \n",
        "#promo2_since_week  \n",
        "df1['promo2_since_week'] = df1.apply( lambda x: x['date'].month if math.isnan( x['promo2_since_week'] ) else x['promo2_since_week' ], axis=1 )\n",
        "\n",
        "#promo2_since_year \n",
        "df1['promo2_since_year'] = df1.apply( lambda x: x['date'].month if math.isnan( x['promo2_since_year'] ) else x['promo2_since_year' ], axis=1 )\n",
        "\n",
        "#promo_interval\n",
        "month_map = {1: 'Jan', 2: 'Fev', 3: 'Mar', 4: 'Apr', 5: 'May', 6: 'Jun', 7: 'Jul', 8: 'Aug', 9: 'Sept', 10: 'Out', 11: 'Nov', 12: 'Dez'}\n",
        "\n",
        "df1['promo_interval'].fillna(0, inplace=True)\n",
        "\n",
        "df1['month_map'] = df1['date'].dt.month.map( month_map )\n",
        "\n",
        "df1['is_promo'] = df1[['promo_interval', 'month_map']].apply( lambda x: 0 if x['promo_interval'] == 0 else 1 if x['month_map'] in x['promo_interval'].split( ',' ) else 0, axis=1 )\n",
        "\n"
      ],
      "metadata": {
        "id": "ci9Z7mCNV8Cm"
      },
      "execution_count": 22,
      "outputs": []
    },
    {
      "cell_type": "code",
      "source": [
        "df1.isna().sum()"
      ],
      "metadata": {
        "colab": {
          "base_uri": "https://localhost:8080/"
        },
        "id": "Ce_eg8KoYRZn",
        "outputId": "066a15d9-0375-484b-d903-f7def390d87c"
      },
      "execution_count": 20,
      "outputs": [
        {
          "output_type": "execute_result",
          "data": {
            "text/plain": [
              "store                           0\n",
              "day_of_week                     0\n",
              "date                            0\n",
              "sales                           0\n",
              "customers                       0\n",
              "open                            0\n",
              "promo                           0\n",
              "state_holiday                   0\n",
              "school_holiday                  0\n",
              "store_type                      0\n",
              "assortment                      0\n",
              "competition_distance            0\n",
              "competition_open_since_month    0\n",
              "competition_open_since_year     0\n",
              "promo2                          0\n",
              "promo2_since_week               0\n",
              "promo2_since_year               0\n",
              "promo_interval                  0\n",
              "month_map                       0\n",
              "is_promo                        0\n",
              "dtype: int64"
            ]
          },
          "metadata": {},
          "execution_count": 20
        }
      ]
    },
    {
      "cell_type": "code",
      "source": [
        "df1.sample(15).T\n"
      ],
      "metadata": {
        "colab": {
          "base_uri": "https://localhost:8080/",
          "height": 775
        },
        "id": "zP-M84zA-9Zb",
        "outputId": "461314a0-45a8-4b90-be4d-fab3a021a1cb"
      },
      "execution_count": 23,
      "outputs": [
        {
          "output_type": "execute_result",
          "data": {
            "text/plain": [
              "                                          667735               590560   \\\n",
              "store                                         636                  396   \n",
              "day_of_week                                     7                    6   \n",
              "date                          2013-11-10 00:00:00  2014-01-18 00:00:00   \n",
              "sales                                           0                 5132   \n",
              "customers                                       0                  535   \n",
              "open                                            0                    1   \n",
              "promo                                           0                    0   \n",
              "state_holiday                                   0                    0   \n",
              "school_holiday                                  0                    0   \n",
              "store_type                                      c                    a   \n",
              "assortment                                      a                    c   \n",
              "competition_distance                        720.0              23130.0   \n",
              "competition_open_since_month                 10.0                  1.0   \n",
              "competition_open_since_year                2004.0                  1.0   \n",
              "promo2                                          1                    0   \n",
              "promo2_since_week                            13.0                  1.0   \n",
              "promo2_since_year                          2010.0                  1.0   \n",
              "promo_interval                    Jan,Apr,Jul,Oct                    0   \n",
              "month_map                                     Nov                  Jan   \n",
              "is_promo                                        0                    0   \n",
              "\n",
              "                                          648089               382558   \\\n",
              "store                                        1060                  380   \n",
              "day_of_week                                     4                    1   \n",
              "date                          2013-11-28 00:00:00  2014-07-28 00:00:00   \n",
              "sales                                        6571                18938   \n",
              "customers                                     824                 1633   \n",
              "open                                            1                    1   \n",
              "promo                                           0                    1   \n",
              "state_holiday                                   0                    0   \n",
              "school_holiday                                  0                    1   \n",
              "store_type                                      a                    a   \n",
              "assortment                                      c                    a   \n",
              "competition_distance                       3430.0               2240.0   \n",
              "competition_open_since_month                 11.0                  5.0   \n",
              "competition_open_since_year                  11.0               2013.0   \n",
              "promo2                                          1                    1   \n",
              "promo2_since_week                            31.0                 10.0   \n",
              "promo2_since_year                          2013.0               2014.0   \n",
              "promo_interval                    Feb,May,Aug,Nov     Mar,Jun,Sept,Dec   \n",
              "month_map                                     Nov                  Jul   \n",
              "is_promo                                        1                    0   \n",
              "\n",
              "                                          464948               71734    \\\n",
              "store                                         779                  375   \n",
              "day_of_week                                     7                    4   \n",
              "date                          2014-05-11 00:00:00  2015-05-28 00:00:00   \n",
              "sales                                           0                 9624   \n",
              "customers                                       0                  778   \n",
              "open                                            0                    1   \n",
              "promo                                           0                    0   \n",
              "state_holiday                                   0                    0   \n",
              "school_holiday                                  0                    0   \n",
              "store_type                                      a                    a   \n",
              "assortment                                      a                    c   \n",
              "competition_distance                      16990.0              15710.0   \n",
              "competition_open_since_month                  4.0                  2.0   \n",
              "competition_open_since_year                2004.0               2013.0   \n",
              "promo2                                          0                    1   \n",
              "promo2_since_week                             5.0                 37.0   \n",
              "promo2_since_year                             5.0               2009.0   \n",
              "promo_interval                                  0      Jan,Apr,Jul,Oct   \n",
              "month_map                                     May                  May   \n",
              "is_promo                                        0                    0   \n",
              "\n",
              "                                          100950               615227   \\\n",
              "store                                         601                  533   \n",
              "day_of_week                                     6                    5   \n",
              "date                          2015-05-02 00:00:00  2013-12-27 00:00:00   \n",
              "sales                                        6090                 9569   \n",
              "customers                                     523                  963   \n",
              "open                                            1                    1   \n",
              "promo                                           0                    0   \n",
              "state_holiday                                   0                    0   \n",
              "school_holiday                                  0                    1   \n",
              "store_type                                      d                    a   \n",
              "assortment                                      a                    c   \n",
              "competition_distance                       8220.0               5950.0   \n",
              "competition_open_since_month                  4.0                 12.0   \n",
              "competition_open_since_year                2014.0                 12.0   \n",
              "promo2                                          1                    0   \n",
              "promo2_since_week                            14.0                 12.0   \n",
              "promo2_since_year                          2011.0                 12.0   \n",
              "promo_interval                    Jan,Apr,Jul,Oct                    0   \n",
              "month_map                                     May                  Dez   \n",
              "is_promo                                        0                    0   \n",
              "\n",
              "                                          157297               1005833  \\\n",
              "store                                          83                  889   \n",
              "day_of_week                                     4                    5   \n",
              "date                          2015-03-12 00:00:00  2013-01-11 00:00:00   \n",
              "sales                                        3495                 5050   \n",
              "customers                                     327                  543   \n",
              "open                                            1                    1   \n",
              "promo                                           0                    1   \n",
              "state_holiday                                   0                    0   \n",
              "school_holiday                                  0                    0   \n",
              "store_type                                      a                    d   \n",
              "assortment                                      a                    a   \n",
              "competition_distance                       2710.0              18670.0   \n",
              "competition_open_since_month                  3.0                 12.0   \n",
              "competition_open_since_year                   3.0               2005.0   \n",
              "promo2                                          0                    0   \n",
              "promo2_since_week                             3.0                  1.0   \n",
              "promo2_since_year                             3.0                  1.0   \n",
              "promo_interval                                  0                    0   \n",
              "month_map                                     Mar                  Jan   \n",
              "is_promo                                        0                    0   \n",
              "\n",
              "                                          694040               196078   \\\n",
              "store                                         181                  954   \n",
              "day_of_week                                     4                    5   \n",
              "date                          2013-10-17 00:00:00  2015-02-06 00:00:00   \n",
              "sales                                        5019                 6477   \n",
              "customers                                     640                  812   \n",
              "open                                            1                    1   \n",
              "promo                                           0                    1   \n",
              "state_holiday                                   0                    0   \n",
              "school_holiday                                  0                    0   \n",
              "store_type                                      a                    a   \n",
              "assortment                                      a                    a   \n",
              "competition_distance                      12610.0                390.0   \n",
              "competition_open_since_month                  3.0                  2.0   \n",
              "competition_open_since_year                2013.0               2013.0   \n",
              "promo2                                          1                    1   \n",
              "promo2_since_week                            14.0                 10.0   \n",
              "promo2_since_year                          2011.0               2014.0   \n",
              "promo_interval                    Jan,Apr,Jul,Oct      Jan,Apr,Jul,Oct   \n",
              "month_map                                     Out                  Fev   \n",
              "is_promo                                        0                    0   \n",
              "\n",
              "                                          508057               889903   \\\n",
              "store                                         403                  919   \n",
              "day_of_week                                     3                    4   \n",
              "date                          2014-04-02 00:00:00  2013-04-25 00:00:00   \n",
              "sales                                        7728                 5587   \n",
              "customers                                     791                  692   \n",
              "open                                            1                    1   \n",
              "promo                                           1                    1   \n",
              "state_holiday                                   0                    0   \n",
              "school_holiday                                  0                    0   \n",
              "store_type                                      a                    a   \n",
              "assortment                                      a                    a   \n",
              "competition_distance                       4970.0               2620.0   \n",
              "competition_open_since_month                  7.0                  4.0   \n",
              "competition_open_since_year                2015.0                  4.0   \n",
              "promo2                                          0                    1   \n",
              "promo2_since_week                             4.0                 45.0   \n",
              "promo2_since_year                             4.0               2009.0   \n",
              "promo_interval                                  0      Feb,May,Aug,Nov   \n",
              "month_map                                     Apr                  Apr   \n",
              "is_promo                                        0                    0   \n",
              "\n",
              "                                          798599   \n",
              "store                                        1045  \n",
              "day_of_week                                     2  \n",
              "date                          2013-07-16 00:00:00  \n",
              "sales                                       11155  \n",
              "customers                                    1326  \n",
              "open                                            1  \n",
              "promo                                           1  \n",
              "state_holiday                                   0  \n",
              "school_holiday                                  1  \n",
              "store_type                                      a  \n",
              "assortment                                      c  \n",
              "competition_distance                      26990.0  \n",
              "competition_open_since_month                 12.0  \n",
              "competition_open_since_year                2013.0  \n",
              "promo2                                          0  \n",
              "promo2_since_week                             7.0  \n",
              "promo2_since_year                             7.0  \n",
              "promo_interval                                  0  \n",
              "month_map                                     Jul  \n",
              "is_promo                                        0  "
            ],
            "text/html": [
              "\n",
              "  <div id=\"df-ee90bda3-f6b9-43ab-b463-f24abb475385\">\n",
              "    <div class=\"colab-df-container\">\n",
              "      <div>\n",
              "<style scoped>\n",
              "    .dataframe tbody tr th:only-of-type {\n",
              "        vertical-align: middle;\n",
              "    }\n",
              "\n",
              "    .dataframe tbody tr th {\n",
              "        vertical-align: top;\n",
              "    }\n",
              "\n",
              "    .dataframe thead th {\n",
              "        text-align: right;\n",
              "    }\n",
              "</style>\n",
              "<table border=\"1\" class=\"dataframe\">\n",
              "  <thead>\n",
              "    <tr style=\"text-align: right;\">\n",
              "      <th></th>\n",
              "      <th>667735</th>\n",
              "      <th>590560</th>\n",
              "      <th>648089</th>\n",
              "      <th>382558</th>\n",
              "      <th>464948</th>\n",
              "      <th>71734</th>\n",
              "      <th>100950</th>\n",
              "      <th>615227</th>\n",
              "      <th>157297</th>\n",
              "      <th>1005833</th>\n",
              "      <th>694040</th>\n",
              "      <th>196078</th>\n",
              "      <th>508057</th>\n",
              "      <th>889903</th>\n",
              "      <th>798599</th>\n",
              "    </tr>\n",
              "  </thead>\n",
              "  <tbody>\n",
              "    <tr>\n",
              "      <th>store</th>\n",
              "      <td>636</td>\n",
              "      <td>396</td>\n",
              "      <td>1060</td>\n",
              "      <td>380</td>\n",
              "      <td>779</td>\n",
              "      <td>375</td>\n",
              "      <td>601</td>\n",
              "      <td>533</td>\n",
              "      <td>83</td>\n",
              "      <td>889</td>\n",
              "      <td>181</td>\n",
              "      <td>954</td>\n",
              "      <td>403</td>\n",
              "      <td>919</td>\n",
              "      <td>1045</td>\n",
              "    </tr>\n",
              "    <tr>\n",
              "      <th>day_of_week</th>\n",
              "      <td>7</td>\n",
              "      <td>6</td>\n",
              "      <td>4</td>\n",
              "      <td>1</td>\n",
              "      <td>7</td>\n",
              "      <td>4</td>\n",
              "      <td>6</td>\n",
              "      <td>5</td>\n",
              "      <td>4</td>\n",
              "      <td>5</td>\n",
              "      <td>4</td>\n",
              "      <td>5</td>\n",
              "      <td>3</td>\n",
              "      <td>4</td>\n",
              "      <td>2</td>\n",
              "    </tr>\n",
              "    <tr>\n",
              "      <th>date</th>\n",
              "      <td>2013-11-10 00:00:00</td>\n",
              "      <td>2014-01-18 00:00:00</td>\n",
              "      <td>2013-11-28 00:00:00</td>\n",
              "      <td>2014-07-28 00:00:00</td>\n",
              "      <td>2014-05-11 00:00:00</td>\n",
              "      <td>2015-05-28 00:00:00</td>\n",
              "      <td>2015-05-02 00:00:00</td>\n",
              "      <td>2013-12-27 00:00:00</td>\n",
              "      <td>2015-03-12 00:00:00</td>\n",
              "      <td>2013-01-11 00:00:00</td>\n",
              "      <td>2013-10-17 00:00:00</td>\n",
              "      <td>2015-02-06 00:00:00</td>\n",
              "      <td>2014-04-02 00:00:00</td>\n",
              "      <td>2013-04-25 00:00:00</td>\n",
              "      <td>2013-07-16 00:00:00</td>\n",
              "    </tr>\n",
              "    <tr>\n",
              "      <th>sales</th>\n",
              "      <td>0</td>\n",
              "      <td>5132</td>\n",
              "      <td>6571</td>\n",
              "      <td>18938</td>\n",
              "      <td>0</td>\n",
              "      <td>9624</td>\n",
              "      <td>6090</td>\n",
              "      <td>9569</td>\n",
              "      <td>3495</td>\n",
              "      <td>5050</td>\n",
              "      <td>5019</td>\n",
              "      <td>6477</td>\n",
              "      <td>7728</td>\n",
              "      <td>5587</td>\n",
              "      <td>11155</td>\n",
              "    </tr>\n",
              "    <tr>\n",
              "      <th>customers</th>\n",
              "      <td>0</td>\n",
              "      <td>535</td>\n",
              "      <td>824</td>\n",
              "      <td>1633</td>\n",
              "      <td>0</td>\n",
              "      <td>778</td>\n",
              "      <td>523</td>\n",
              "      <td>963</td>\n",
              "      <td>327</td>\n",
              "      <td>543</td>\n",
              "      <td>640</td>\n",
              "      <td>812</td>\n",
              "      <td>791</td>\n",
              "      <td>692</td>\n",
              "      <td>1326</td>\n",
              "    </tr>\n",
              "    <tr>\n",
              "      <th>open</th>\n",
              "      <td>0</td>\n",
              "      <td>1</td>\n",
              "      <td>1</td>\n",
              "      <td>1</td>\n",
              "      <td>0</td>\n",
              "      <td>1</td>\n",
              "      <td>1</td>\n",
              "      <td>1</td>\n",
              "      <td>1</td>\n",
              "      <td>1</td>\n",
              "      <td>1</td>\n",
              "      <td>1</td>\n",
              "      <td>1</td>\n",
              "      <td>1</td>\n",
              "      <td>1</td>\n",
              "    </tr>\n",
              "    <tr>\n",
              "      <th>promo</th>\n",
              "      <td>0</td>\n",
              "      <td>0</td>\n",
              "      <td>0</td>\n",
              "      <td>1</td>\n",
              "      <td>0</td>\n",
              "      <td>0</td>\n",
              "      <td>0</td>\n",
              "      <td>0</td>\n",
              "      <td>0</td>\n",
              "      <td>1</td>\n",
              "      <td>0</td>\n",
              "      <td>1</td>\n",
              "      <td>1</td>\n",
              "      <td>1</td>\n",
              "      <td>1</td>\n",
              "    </tr>\n",
              "    <tr>\n",
              "      <th>state_holiday</th>\n",
              "      <td>0</td>\n",
              "      <td>0</td>\n",
              "      <td>0</td>\n",
              "      <td>0</td>\n",
              "      <td>0</td>\n",
              "      <td>0</td>\n",
              "      <td>0</td>\n",
              "      <td>0</td>\n",
              "      <td>0</td>\n",
              "      <td>0</td>\n",
              "      <td>0</td>\n",
              "      <td>0</td>\n",
              "      <td>0</td>\n",
              "      <td>0</td>\n",
              "      <td>0</td>\n",
              "    </tr>\n",
              "    <tr>\n",
              "      <th>school_holiday</th>\n",
              "      <td>0</td>\n",
              "      <td>0</td>\n",
              "      <td>0</td>\n",
              "      <td>1</td>\n",
              "      <td>0</td>\n",
              "      <td>0</td>\n",
              "      <td>0</td>\n",
              "      <td>1</td>\n",
              "      <td>0</td>\n",
              "      <td>0</td>\n",
              "      <td>0</td>\n",
              "      <td>0</td>\n",
              "      <td>0</td>\n",
              "      <td>0</td>\n",
              "      <td>1</td>\n",
              "    </tr>\n",
              "    <tr>\n",
              "      <th>store_type</th>\n",
              "      <td>c</td>\n",
              "      <td>a</td>\n",
              "      <td>a</td>\n",
              "      <td>a</td>\n",
              "      <td>a</td>\n",
              "      <td>a</td>\n",
              "      <td>d</td>\n",
              "      <td>a</td>\n",
              "      <td>a</td>\n",
              "      <td>d</td>\n",
              "      <td>a</td>\n",
              "      <td>a</td>\n",
              "      <td>a</td>\n",
              "      <td>a</td>\n",
              "      <td>a</td>\n",
              "    </tr>\n",
              "    <tr>\n",
              "      <th>assortment</th>\n",
              "      <td>a</td>\n",
              "      <td>c</td>\n",
              "      <td>c</td>\n",
              "      <td>a</td>\n",
              "      <td>a</td>\n",
              "      <td>c</td>\n",
              "      <td>a</td>\n",
              "      <td>c</td>\n",
              "      <td>a</td>\n",
              "      <td>a</td>\n",
              "      <td>a</td>\n",
              "      <td>a</td>\n",
              "      <td>a</td>\n",
              "      <td>a</td>\n",
              "      <td>c</td>\n",
              "    </tr>\n",
              "    <tr>\n",
              "      <th>competition_distance</th>\n",
              "      <td>720.0</td>\n",
              "      <td>23130.0</td>\n",
              "      <td>3430.0</td>\n",
              "      <td>2240.0</td>\n",
              "      <td>16990.0</td>\n",
              "      <td>15710.0</td>\n",
              "      <td>8220.0</td>\n",
              "      <td>5950.0</td>\n",
              "      <td>2710.0</td>\n",
              "      <td>18670.0</td>\n",
              "      <td>12610.0</td>\n",
              "      <td>390.0</td>\n",
              "      <td>4970.0</td>\n",
              "      <td>2620.0</td>\n",
              "      <td>26990.0</td>\n",
              "    </tr>\n",
              "    <tr>\n",
              "      <th>competition_open_since_month</th>\n",
              "      <td>10.0</td>\n",
              "      <td>1.0</td>\n",
              "      <td>11.0</td>\n",
              "      <td>5.0</td>\n",
              "      <td>4.0</td>\n",
              "      <td>2.0</td>\n",
              "      <td>4.0</td>\n",
              "      <td>12.0</td>\n",
              "      <td>3.0</td>\n",
              "      <td>12.0</td>\n",
              "      <td>3.0</td>\n",
              "      <td>2.0</td>\n",
              "      <td>7.0</td>\n",
              "      <td>4.0</td>\n",
              "      <td>12.0</td>\n",
              "    </tr>\n",
              "    <tr>\n",
              "      <th>competition_open_since_year</th>\n",
              "      <td>2004.0</td>\n",
              "      <td>1.0</td>\n",
              "      <td>11.0</td>\n",
              "      <td>2013.0</td>\n",
              "      <td>2004.0</td>\n",
              "      <td>2013.0</td>\n",
              "      <td>2014.0</td>\n",
              "      <td>12.0</td>\n",
              "      <td>3.0</td>\n",
              "      <td>2005.0</td>\n",
              "      <td>2013.0</td>\n",
              "      <td>2013.0</td>\n",
              "      <td>2015.0</td>\n",
              "      <td>4.0</td>\n",
              "      <td>2013.0</td>\n",
              "    </tr>\n",
              "    <tr>\n",
              "      <th>promo2</th>\n",
              "      <td>1</td>\n",
              "      <td>0</td>\n",
              "      <td>1</td>\n",
              "      <td>1</td>\n",
              "      <td>0</td>\n",
              "      <td>1</td>\n",
              "      <td>1</td>\n",
              "      <td>0</td>\n",
              "      <td>0</td>\n",
              "      <td>0</td>\n",
              "      <td>1</td>\n",
              "      <td>1</td>\n",
              "      <td>0</td>\n",
              "      <td>1</td>\n",
              "      <td>0</td>\n",
              "    </tr>\n",
              "    <tr>\n",
              "      <th>promo2_since_week</th>\n",
              "      <td>13.0</td>\n",
              "      <td>1.0</td>\n",
              "      <td>31.0</td>\n",
              "      <td>10.0</td>\n",
              "      <td>5.0</td>\n",
              "      <td>37.0</td>\n",
              "      <td>14.0</td>\n",
              "      <td>12.0</td>\n",
              "      <td>3.0</td>\n",
              "      <td>1.0</td>\n",
              "      <td>14.0</td>\n",
              "      <td>10.0</td>\n",
              "      <td>4.0</td>\n",
              "      <td>45.0</td>\n",
              "      <td>7.0</td>\n",
              "    </tr>\n",
              "    <tr>\n",
              "      <th>promo2_since_year</th>\n",
              "      <td>2010.0</td>\n",
              "      <td>1.0</td>\n",
              "      <td>2013.0</td>\n",
              "      <td>2014.0</td>\n",
              "      <td>5.0</td>\n",
              "      <td>2009.0</td>\n",
              "      <td>2011.0</td>\n",
              "      <td>12.0</td>\n",
              "      <td>3.0</td>\n",
              "      <td>1.0</td>\n",
              "      <td>2011.0</td>\n",
              "      <td>2014.0</td>\n",
              "      <td>4.0</td>\n",
              "      <td>2009.0</td>\n",
              "      <td>7.0</td>\n",
              "    </tr>\n",
              "    <tr>\n",
              "      <th>promo_interval</th>\n",
              "      <td>Jan,Apr,Jul,Oct</td>\n",
              "      <td>0</td>\n",
              "      <td>Feb,May,Aug,Nov</td>\n",
              "      <td>Mar,Jun,Sept,Dec</td>\n",
              "      <td>0</td>\n",
              "      <td>Jan,Apr,Jul,Oct</td>\n",
              "      <td>Jan,Apr,Jul,Oct</td>\n",
              "      <td>0</td>\n",
              "      <td>0</td>\n",
              "      <td>0</td>\n",
              "      <td>Jan,Apr,Jul,Oct</td>\n",
              "      <td>Jan,Apr,Jul,Oct</td>\n",
              "      <td>0</td>\n",
              "      <td>Feb,May,Aug,Nov</td>\n",
              "      <td>0</td>\n",
              "    </tr>\n",
              "    <tr>\n",
              "      <th>month_map</th>\n",
              "      <td>Nov</td>\n",
              "      <td>Jan</td>\n",
              "      <td>Nov</td>\n",
              "      <td>Jul</td>\n",
              "      <td>May</td>\n",
              "      <td>May</td>\n",
              "      <td>May</td>\n",
              "      <td>Dez</td>\n",
              "      <td>Mar</td>\n",
              "      <td>Jan</td>\n",
              "      <td>Out</td>\n",
              "      <td>Fev</td>\n",
              "      <td>Apr</td>\n",
              "      <td>Apr</td>\n",
              "      <td>Jul</td>\n",
              "    </tr>\n",
              "    <tr>\n",
              "      <th>is_promo</th>\n",
              "      <td>0</td>\n",
              "      <td>0</td>\n",
              "      <td>1</td>\n",
              "      <td>0</td>\n",
              "      <td>0</td>\n",
              "      <td>0</td>\n",
              "      <td>0</td>\n",
              "      <td>0</td>\n",
              "      <td>0</td>\n",
              "      <td>0</td>\n",
              "      <td>0</td>\n",
              "      <td>0</td>\n",
              "      <td>0</td>\n",
              "      <td>0</td>\n",
              "      <td>0</td>\n",
              "    </tr>\n",
              "  </tbody>\n",
              "</table>\n",
              "</div>\n",
              "      <button class=\"colab-df-convert\" onclick=\"convertToInteractive('df-ee90bda3-f6b9-43ab-b463-f24abb475385')\"\n",
              "              title=\"Convert this dataframe to an interactive table.\"\n",
              "              style=\"display:none;\">\n",
              "        \n",
              "  <svg xmlns=\"http://www.w3.org/2000/svg\" height=\"24px\"viewBox=\"0 0 24 24\"\n",
              "       width=\"24px\">\n",
              "    <path d=\"M0 0h24v24H0V0z\" fill=\"none\"/>\n",
              "    <path d=\"M18.56 5.44l.94 2.06.94-2.06 2.06-.94-2.06-.94-.94-2.06-.94 2.06-2.06.94zm-11 1L8.5 8.5l.94-2.06 2.06-.94-2.06-.94L8.5 2.5l-.94 2.06-2.06.94zm10 10l.94 2.06.94-2.06 2.06-.94-2.06-.94-.94-2.06-.94 2.06-2.06.94z\"/><path d=\"M17.41 7.96l-1.37-1.37c-.4-.4-.92-.59-1.43-.59-.52 0-1.04.2-1.43.59L10.3 9.45l-7.72 7.72c-.78.78-.78 2.05 0 2.83L4 21.41c.39.39.9.59 1.41.59.51 0 1.02-.2 1.41-.59l7.78-7.78 2.81-2.81c.8-.78.8-2.07 0-2.86zM5.41 20L4 18.59l7.72-7.72 1.47 1.35L5.41 20z\"/>\n",
              "  </svg>\n",
              "      </button>\n",
              "      \n",
              "  <style>\n",
              "    .colab-df-container {\n",
              "      display:flex;\n",
              "      flex-wrap:wrap;\n",
              "      gap: 12px;\n",
              "    }\n",
              "\n",
              "    .colab-df-convert {\n",
              "      background-color: #E8F0FE;\n",
              "      border: none;\n",
              "      border-radius: 50%;\n",
              "      cursor: pointer;\n",
              "      display: none;\n",
              "      fill: #1967D2;\n",
              "      height: 32px;\n",
              "      padding: 0 0 0 0;\n",
              "      width: 32px;\n",
              "    }\n",
              "\n",
              "    .colab-df-convert:hover {\n",
              "      background-color: #E2EBFA;\n",
              "      box-shadow: 0px 1px 2px rgba(60, 64, 67, 0.3), 0px 1px 3px 1px rgba(60, 64, 67, 0.15);\n",
              "      fill: #174EA6;\n",
              "    }\n",
              "\n",
              "    [theme=dark] .colab-df-convert {\n",
              "      background-color: #3B4455;\n",
              "      fill: #D2E3FC;\n",
              "    }\n",
              "\n",
              "    [theme=dark] .colab-df-convert:hover {\n",
              "      background-color: #434B5C;\n",
              "      box-shadow: 0px 1px 3px 1px rgba(0, 0, 0, 0.15);\n",
              "      filter: drop-shadow(0px 1px 2px rgba(0, 0, 0, 0.3));\n",
              "      fill: #FFFFFF;\n",
              "    }\n",
              "  </style>\n",
              "\n",
              "      <script>\n",
              "        const buttonEl =\n",
              "          document.querySelector('#df-ee90bda3-f6b9-43ab-b463-f24abb475385 button.colab-df-convert');\n",
              "        buttonEl.style.display =\n",
              "          google.colab.kernel.accessAllowed ? 'block' : 'none';\n",
              "\n",
              "        async function convertToInteractive(key) {\n",
              "          const element = document.querySelector('#df-ee90bda3-f6b9-43ab-b463-f24abb475385');\n",
              "          const dataTable =\n",
              "            await google.colab.kernel.invokeFunction('convertToInteractive',\n",
              "                                                     [key], {});\n",
              "          if (!dataTable) return;\n",
              "\n",
              "          const docLinkHtml = 'Like what you see? Visit the ' +\n",
              "            '<a target=\"_blank\" href=https://colab.research.google.com/notebooks/data_table.ipynb>data table notebook</a>'\n",
              "            + ' to learn more about interactive tables.';\n",
              "          element.innerHTML = '';\n",
              "          dataTable['output_type'] = 'display_data';\n",
              "          await google.colab.output.renderOutput(dataTable, element);\n",
              "          const docLink = document.createElement('div');\n",
              "          docLink.innerHTML = docLinkHtml;\n",
              "          element.appendChild(docLink);\n",
              "        }\n",
              "      </script>\n",
              "    </div>\n",
              "  </div>\n",
              "  "
            ]
          },
          "metadata": {},
          "execution_count": 23
        }
      ]
    },
    {
      "cell_type": "markdown",
      "source": [
        "## 1.6. Change Types"
      ],
      "metadata": {
        "id": "N3448ruzOl08"
      }
    },
    {
      "cell_type": "code",
      "source": [
        "df1['competition_open_since_month'] = df1['competition_open_since_month'].astype( int )\n",
        "df1['competition_open_since_year'] = df1['competition_open_since_year'].astype( int )\n",
        "\n",
        "df1['promo2_since_week'] = df1['promo2_since_week'].astype( int )\n",
        "df1['promo2_since_year'] = df1['promo2_since_year'].astype( int )"
      ],
      "metadata": {
        "id": "I1rmmGjcE5nK"
      },
      "execution_count": 27,
      "outputs": []
    },
    {
      "cell_type": "markdown",
      "source": [
        "## 1.7. Descriptive Statistical"
      ],
      "metadata": {
        "id": "zYxOtl0oFwGm"
      }
    },
    {
      "cell_type": "code",
      "source": [
        "num_attributes = df1.select_dtypes( include=['int64', 'float64'])\n",
        "cat_attributes = df1.select_dtypes( exclude=['int64', 'float64', 'datetime64[ns]'])"
      ],
      "metadata": {
        "id": "4JeBs8I1GoT1"
      },
      "execution_count": 29,
      "outputs": []
    },
    {
      "cell_type": "markdown",
      "source": [
        "### 1.7.1. Numerical Attributes"
      ],
      "metadata": {
        "id": "OyrHMqQgIqN3"
      }
    },
    {
      "cell_type": "code",
      "source": [
        "# Central Tendency - mean, median\n",
        "ct1 = pd.DataFrame( num_attributes.apply( np.mean ) ).T \n",
        "ct2 = pd.DataFrame( num_attributes.apply( np.median ) ).T \n",
        "\n",
        "# Disperson - std, min, max, range, skew, kurtosis\n",
        "d1 = pd.DataFrame( num_attributes.apply( np.std ) ).T\n",
        "d2 = pd.DataFrame( num_attributes.apply( min ) ).T\n",
        "d3 = pd.DataFrame( num_attributes.apply( max ) ).T\n",
        "d4 = pd.DataFrame( num_attributes.apply( lambda x: x.max() - x.min() ) ).T\n",
        "d5 = pd.DataFrame( num_attributes.apply( lambda x: x.skew() ) ).T\n",
        "d6 = pd.DataFrame( num_attributes.apply( lambda x: x.kurtosis() ) ).T\n",
        "\n",
        "# Concatenate\n",
        "m = pd.concat( [d2, d3, d4, ct1, ct2, d1, d5, d6] ).T.reset_index()\n",
        "m.columns = [ 'attributes', 'min', 'max', 'range', 'mean', 'median', 'std', 'skew', 'kurtosis']"
      ],
      "metadata": {
        "id": "Rre3ZftEI19H"
      },
      "execution_count": 40,
      "outputs": []
    },
    {
      "cell_type": "code",
      "source": [
        "m"
      ],
      "metadata": {
        "colab": {
          "base_uri": "https://localhost:8080/",
          "height": 488
        },
        "id": "iU4RRnpvE5hX",
        "outputId": "10c56c28-1f75-41d5-d47c-e36134af918c"
      },
      "execution_count": 41,
      "outputs": [
        {
          "output_type": "execute_result",
          "data": {
            "text/plain": [
              "                      attributes   min       max     range         mean  \\\n",
              "0                          store   1.0    1115.0    1114.0   558.429727   \n",
              "1                    day_of_week   1.0       7.0       6.0     3.998341   \n",
              "2                          sales   0.0   41551.0   41551.0  5773.818972   \n",
              "3                      customers   0.0    7388.0    7388.0   633.145946   \n",
              "4                           open   0.0       1.0       1.0     0.830107   \n",
              "5                          promo   0.0       1.0       1.0     0.381515   \n",
              "6                 school_holiday   0.0       1.0       1.0     0.178647   \n",
              "7           competition_distance  20.0  200000.0  199980.0  5935.442677   \n",
              "8   competition_open_since_month   1.0      12.0      11.0     6.786849   \n",
              "9    competition_open_since_year   1.0    2015.0    2014.0  1372.032482   \n",
              "10                        promo2   0.0       1.0       1.0     0.500564   \n",
              "11             promo2_since_week   1.0      50.0      49.0    14.609864   \n",
              "12             promo2_since_year   1.0    2015.0    2014.0  1009.972807   \n",
              "13                      is_promo   0.0       1.0       1.0     0.138334   \n",
              "\n",
              "    median           std       skew    kurtosis  \n",
              "0    558.0    321.908493  -0.000955   -1.200524  \n",
              "1      4.0      1.997390   0.001593   -1.246873  \n",
              "2   5744.0   3849.924283   0.641460    1.778375  \n",
              "3    609.0    464.411506   1.598650    7.091773  \n",
              "4      1.0      0.375539  -1.758045    1.090723  \n",
              "5      0.0      0.485758   0.487838   -1.762018  \n",
              "6      0.0      0.383056   1.677842    0.815154  \n",
              "7   2330.0  12547.646829  10.242344  147.789712  \n",
              "8      7.0      3.311085  -0.042076   -1.232607  \n",
              "9   2006.0    932.640284  -0.782151   -1.388100  \n",
              "10     1.0      0.500000  -0.002255   -1.999999  \n",
              "11    10.0     13.423599   1.069912   -0.222811  \n",
              "12  2009.0   1002.913680  -0.002268   -1.999971  \n",
              "13     0.0      0.345251   2.095093    2.389420  "
            ],
            "text/html": [
              "\n",
              "  <div id=\"df-a2a1a6a5-d926-40a8-9b5e-25362437a07b\">\n",
              "    <div class=\"colab-df-container\">\n",
              "      <div>\n",
              "<style scoped>\n",
              "    .dataframe tbody tr th:only-of-type {\n",
              "        vertical-align: middle;\n",
              "    }\n",
              "\n",
              "    .dataframe tbody tr th {\n",
              "        vertical-align: top;\n",
              "    }\n",
              "\n",
              "    .dataframe thead th {\n",
              "        text-align: right;\n",
              "    }\n",
              "</style>\n",
              "<table border=\"1\" class=\"dataframe\">\n",
              "  <thead>\n",
              "    <tr style=\"text-align: right;\">\n",
              "      <th></th>\n",
              "      <th>attributes</th>\n",
              "      <th>min</th>\n",
              "      <th>max</th>\n",
              "      <th>range</th>\n",
              "      <th>mean</th>\n",
              "      <th>median</th>\n",
              "      <th>std</th>\n",
              "      <th>skew</th>\n",
              "      <th>kurtosis</th>\n",
              "    </tr>\n",
              "  </thead>\n",
              "  <tbody>\n",
              "    <tr>\n",
              "      <th>0</th>\n",
              "      <td>store</td>\n",
              "      <td>1.0</td>\n",
              "      <td>1115.0</td>\n",
              "      <td>1114.0</td>\n",
              "      <td>558.429727</td>\n",
              "      <td>558.0</td>\n",
              "      <td>321.908493</td>\n",
              "      <td>-0.000955</td>\n",
              "      <td>-1.200524</td>\n",
              "    </tr>\n",
              "    <tr>\n",
              "      <th>1</th>\n",
              "      <td>day_of_week</td>\n",
              "      <td>1.0</td>\n",
              "      <td>7.0</td>\n",
              "      <td>6.0</td>\n",
              "      <td>3.998341</td>\n",
              "      <td>4.0</td>\n",
              "      <td>1.997390</td>\n",
              "      <td>0.001593</td>\n",
              "      <td>-1.246873</td>\n",
              "    </tr>\n",
              "    <tr>\n",
              "      <th>2</th>\n",
              "      <td>sales</td>\n",
              "      <td>0.0</td>\n",
              "      <td>41551.0</td>\n",
              "      <td>41551.0</td>\n",
              "      <td>5773.818972</td>\n",
              "      <td>5744.0</td>\n",
              "      <td>3849.924283</td>\n",
              "      <td>0.641460</td>\n",
              "      <td>1.778375</td>\n",
              "    </tr>\n",
              "    <tr>\n",
              "      <th>3</th>\n",
              "      <td>customers</td>\n",
              "      <td>0.0</td>\n",
              "      <td>7388.0</td>\n",
              "      <td>7388.0</td>\n",
              "      <td>633.145946</td>\n",
              "      <td>609.0</td>\n",
              "      <td>464.411506</td>\n",
              "      <td>1.598650</td>\n",
              "      <td>7.091773</td>\n",
              "    </tr>\n",
              "    <tr>\n",
              "      <th>4</th>\n",
              "      <td>open</td>\n",
              "      <td>0.0</td>\n",
              "      <td>1.0</td>\n",
              "      <td>1.0</td>\n",
              "      <td>0.830107</td>\n",
              "      <td>1.0</td>\n",
              "      <td>0.375539</td>\n",
              "      <td>-1.758045</td>\n",
              "      <td>1.090723</td>\n",
              "    </tr>\n",
              "    <tr>\n",
              "      <th>5</th>\n",
              "      <td>promo</td>\n",
              "      <td>0.0</td>\n",
              "      <td>1.0</td>\n",
              "      <td>1.0</td>\n",
              "      <td>0.381515</td>\n",
              "      <td>0.0</td>\n",
              "      <td>0.485758</td>\n",
              "      <td>0.487838</td>\n",
              "      <td>-1.762018</td>\n",
              "    </tr>\n",
              "    <tr>\n",
              "      <th>6</th>\n",
              "      <td>school_holiday</td>\n",
              "      <td>0.0</td>\n",
              "      <td>1.0</td>\n",
              "      <td>1.0</td>\n",
              "      <td>0.178647</td>\n",
              "      <td>0.0</td>\n",
              "      <td>0.383056</td>\n",
              "      <td>1.677842</td>\n",
              "      <td>0.815154</td>\n",
              "    </tr>\n",
              "    <tr>\n",
              "      <th>7</th>\n",
              "      <td>competition_distance</td>\n",
              "      <td>20.0</td>\n",
              "      <td>200000.0</td>\n",
              "      <td>199980.0</td>\n",
              "      <td>5935.442677</td>\n",
              "      <td>2330.0</td>\n",
              "      <td>12547.646829</td>\n",
              "      <td>10.242344</td>\n",
              "      <td>147.789712</td>\n",
              "    </tr>\n",
              "    <tr>\n",
              "      <th>8</th>\n",
              "      <td>competition_open_since_month</td>\n",
              "      <td>1.0</td>\n",
              "      <td>12.0</td>\n",
              "      <td>11.0</td>\n",
              "      <td>6.786849</td>\n",
              "      <td>7.0</td>\n",
              "      <td>3.311085</td>\n",
              "      <td>-0.042076</td>\n",
              "      <td>-1.232607</td>\n",
              "    </tr>\n",
              "    <tr>\n",
              "      <th>9</th>\n",
              "      <td>competition_open_since_year</td>\n",
              "      <td>1.0</td>\n",
              "      <td>2015.0</td>\n",
              "      <td>2014.0</td>\n",
              "      <td>1372.032482</td>\n",
              "      <td>2006.0</td>\n",
              "      <td>932.640284</td>\n",
              "      <td>-0.782151</td>\n",
              "      <td>-1.388100</td>\n",
              "    </tr>\n",
              "    <tr>\n",
              "      <th>10</th>\n",
              "      <td>promo2</td>\n",
              "      <td>0.0</td>\n",
              "      <td>1.0</td>\n",
              "      <td>1.0</td>\n",
              "      <td>0.500564</td>\n",
              "      <td>1.0</td>\n",
              "      <td>0.500000</td>\n",
              "      <td>-0.002255</td>\n",
              "      <td>-1.999999</td>\n",
              "    </tr>\n",
              "    <tr>\n",
              "      <th>11</th>\n",
              "      <td>promo2_since_week</td>\n",
              "      <td>1.0</td>\n",
              "      <td>50.0</td>\n",
              "      <td>49.0</td>\n",
              "      <td>14.609864</td>\n",
              "      <td>10.0</td>\n",
              "      <td>13.423599</td>\n",
              "      <td>1.069912</td>\n",
              "      <td>-0.222811</td>\n",
              "    </tr>\n",
              "    <tr>\n",
              "      <th>12</th>\n",
              "      <td>promo2_since_year</td>\n",
              "      <td>1.0</td>\n",
              "      <td>2015.0</td>\n",
              "      <td>2014.0</td>\n",
              "      <td>1009.972807</td>\n",
              "      <td>2009.0</td>\n",
              "      <td>1002.913680</td>\n",
              "      <td>-0.002268</td>\n",
              "      <td>-1.999971</td>\n",
              "    </tr>\n",
              "    <tr>\n",
              "      <th>13</th>\n",
              "      <td>is_promo</td>\n",
              "      <td>0.0</td>\n",
              "      <td>1.0</td>\n",
              "      <td>1.0</td>\n",
              "      <td>0.138334</td>\n",
              "      <td>0.0</td>\n",
              "      <td>0.345251</td>\n",
              "      <td>2.095093</td>\n",
              "      <td>2.389420</td>\n",
              "    </tr>\n",
              "  </tbody>\n",
              "</table>\n",
              "</div>\n",
              "      <button class=\"colab-df-convert\" onclick=\"convertToInteractive('df-a2a1a6a5-d926-40a8-9b5e-25362437a07b')\"\n",
              "              title=\"Convert this dataframe to an interactive table.\"\n",
              "              style=\"display:none;\">\n",
              "        \n",
              "  <svg xmlns=\"http://www.w3.org/2000/svg\" height=\"24px\"viewBox=\"0 0 24 24\"\n",
              "       width=\"24px\">\n",
              "    <path d=\"M0 0h24v24H0V0z\" fill=\"none\"/>\n",
              "    <path d=\"M18.56 5.44l.94 2.06.94-2.06 2.06-.94-2.06-.94-.94-2.06-.94 2.06-2.06.94zm-11 1L8.5 8.5l.94-2.06 2.06-.94-2.06-.94L8.5 2.5l-.94 2.06-2.06.94zm10 10l.94 2.06.94-2.06 2.06-.94-2.06-.94-.94-2.06-.94 2.06-2.06.94z\"/><path d=\"M17.41 7.96l-1.37-1.37c-.4-.4-.92-.59-1.43-.59-.52 0-1.04.2-1.43.59L10.3 9.45l-7.72 7.72c-.78.78-.78 2.05 0 2.83L4 21.41c.39.39.9.59 1.41.59.51 0 1.02-.2 1.41-.59l7.78-7.78 2.81-2.81c.8-.78.8-2.07 0-2.86zM5.41 20L4 18.59l7.72-7.72 1.47 1.35L5.41 20z\"/>\n",
              "  </svg>\n",
              "      </button>\n",
              "      \n",
              "  <style>\n",
              "    .colab-df-container {\n",
              "      display:flex;\n",
              "      flex-wrap:wrap;\n",
              "      gap: 12px;\n",
              "    }\n",
              "\n",
              "    .colab-df-convert {\n",
              "      background-color: #E8F0FE;\n",
              "      border: none;\n",
              "      border-radius: 50%;\n",
              "      cursor: pointer;\n",
              "      display: none;\n",
              "      fill: #1967D2;\n",
              "      height: 32px;\n",
              "      padding: 0 0 0 0;\n",
              "      width: 32px;\n",
              "    }\n",
              "\n",
              "    .colab-df-convert:hover {\n",
              "      background-color: #E2EBFA;\n",
              "      box-shadow: 0px 1px 2px rgba(60, 64, 67, 0.3), 0px 1px 3px 1px rgba(60, 64, 67, 0.15);\n",
              "      fill: #174EA6;\n",
              "    }\n",
              "\n",
              "    [theme=dark] .colab-df-convert {\n",
              "      background-color: #3B4455;\n",
              "      fill: #D2E3FC;\n",
              "    }\n",
              "\n",
              "    [theme=dark] .colab-df-convert:hover {\n",
              "      background-color: #434B5C;\n",
              "      box-shadow: 0px 1px 3px 1px rgba(0, 0, 0, 0.15);\n",
              "      filter: drop-shadow(0px 1px 2px rgba(0, 0, 0, 0.3));\n",
              "      fill: #FFFFFF;\n",
              "    }\n",
              "  </style>\n",
              "\n",
              "      <script>\n",
              "        const buttonEl =\n",
              "          document.querySelector('#df-a2a1a6a5-d926-40a8-9b5e-25362437a07b button.colab-df-convert');\n",
              "        buttonEl.style.display =\n",
              "          google.colab.kernel.accessAllowed ? 'block' : 'none';\n",
              "\n",
              "        async function convertToInteractive(key) {\n",
              "          const element = document.querySelector('#df-a2a1a6a5-d926-40a8-9b5e-25362437a07b');\n",
              "          const dataTable =\n",
              "            await google.colab.kernel.invokeFunction('convertToInteractive',\n",
              "                                                     [key], {});\n",
              "          if (!dataTable) return;\n",
              "\n",
              "          const docLinkHtml = 'Like what you see? Visit the ' +\n",
              "            '<a target=\"_blank\" href=https://colab.research.google.com/notebooks/data_table.ipynb>data table notebook</a>'\n",
              "            + ' to learn more about interactive tables.';\n",
              "          element.innerHTML = '';\n",
              "          dataTable['output_type'] = 'display_data';\n",
              "          await google.colab.output.renderOutput(dataTable, element);\n",
              "          const docLink = document.createElement('div');\n",
              "          docLink.innerHTML = docLinkHtml;\n",
              "          element.appendChild(docLink);\n",
              "        }\n",
              "      </script>\n",
              "    </div>\n",
              "  </div>\n",
              "  "
            ]
          },
          "metadata": {},
          "execution_count": 41
        }
      ]
    },
    {
      "cell_type": "code",
      "source": [
        "sns.distplot( df1['sales'] )"
      ],
      "metadata": {
        "colab": {
          "base_uri": "https://localhost:8080/",
          "height": 351
        },
        "id": "zeExfafGF5KP",
        "outputId": "9e2081c7-3e4f-4e0c-db10-010eb0139e7a"
      },
      "execution_count": 46,
      "outputs": [
        {
          "output_type": "stream",
          "name": "stderr",
          "text": [
            "/usr/local/lib/python3.7/dist-packages/seaborn/distributions.py:2619: FutureWarning: `distplot` is a deprecated function and will be removed in a future version. Please adapt your code to use either `displot` (a figure-level function with similar flexibility) or `histplot` (an axes-level function for histograms).\n",
            "  warnings.warn(msg, FutureWarning)\n"
          ]
        },
        {
          "output_type": "execute_result",
          "data": {
            "text/plain": [
              "<matplotlib.axes._subplots.AxesSubplot at 0x7fb9d76abdd0>"
            ]
          },
          "metadata": {},
          "execution_count": 46
        },
        {
          "output_type": "display_data",
          "data": {
            "text/plain": [
              "<Figure size 432x288 with 1 Axes>"
            ],
            "image/png": "[encoded data removed]"
          },
          "metadata": {
            "needs_background": "light"
          }
        }
      ]
    },
    {
      "cell_type": "code",
      "source": [
        "sns.distplot( df1['competition_distance'] )"
      ],
      "metadata": {
        "colab": {
          "base_uri": "https://localhost:8080/",
          "height": 352
        },
        "id": "CDz4RRT2Md_L",
        "outputId": "7bb04c8d-422a-4591-ecb6-6af63c58cd54"
      },
      "execution_count": 47,
      "outputs": [
        {
          "output_type": "stream",
          "name": "stderr",
          "text": [
            "/usr/local/lib/python3.7/dist-packages/seaborn/distributions.py:2619: FutureWarning: `distplot` is a deprecated function and will be removed in a future version. Please adapt your code to use either `displot` (a figure-level function with similar flexibility) or `histplot` (an axes-level function for histograms).\n",
            "  warnings.warn(msg, FutureWarning)\n"
          ]
        },
        {
          "output_type": "execute_result",
          "data": {
            "text/plain": [
              "<matplotlib.axes._subplots.AxesSubplot at 0x7fb9d74d75d0>"
            ]
          },
          "metadata": {},
          "execution_count": 47
        },
        {
          "output_type": "display_data",
          "data": {
            "text/plain": [
              "<Figure size 432x288 with 1 Axes>"
            ],
            "image/png": "[encoded data removed]"
          },
          "metadata": {
            "needs_background": "light"
          }
        }
      ]
    },
    {
      "cell_type": "markdown",
      "source": [
        "### 1.7.1. Categorical Attributes"
      ],
      "metadata": {
        "id": "RbXMpTtmNBh0"
      }
    },
    {
      "cell_type": "code",
      "source": [
        "cat_attributes.apply( lambda x: x.unique().shape[0]  )"
      ],
      "metadata": {
        "colab": {
          "base_uri": "https://localhost:8080/"
        },
        "id": "POggMS3KF5IX",
        "outputId": "fb551f81-8184-4f6b-d1a8-b6370320d411"
      },
      "execution_count": 48,
      "outputs": [
        {
          "output_type": "execute_result",
          "data": {
            "text/plain": [
              "state_holiday      4\n",
              "store_type         4\n",
              "assortment         3\n",
              "promo_interval     4\n",
              "month_map         12\n",
              "dtype: int64"
            ]
          },
          "metadata": {},
          "execution_count": 48
        }
      ]
    },
    {
      "cell_type": "code",
      "source": [
        "aux1 = df1[(df1['state_holiday'] !='0' ) & (df1['sales'] > 0) ]\n",
        "\n",
        "plt.subplot( 1, 3, 1 )\n",
        "sns.boxplot( x='state_holiday', y='sales', data=aux1)\n",
        "\n",
        "plt.subplot( 1, 3, 2 )\n",
        "sns.boxplot( x='store_type', y='sales', data=aux1)\n",
        "\n",
        "plt.subplot( 1, 3, 3 )\n",
        "sns.boxplot( x='assortment', y='sales', data=aux1)\n",
        "\n",
        "#plt.subplot( 1, 5, 4 )\n",
        "#sns.boxplot( x='promo_interval', y='sales', data=aux1)\n",
        "\n",
        "#plt.subplot( 1, 5, 5 )\n",
        "#sns.boxplot( x='month_map', y='sales', data=aux1)"
      ],
      "metadata": {
        "colab": {
          "base_uri": "https://localhost:8080/",
          "height": 298
        },
        "id": "6f9oKMG4F5Fl",
        "outputId": "0a148bd3-290a-41a3-dd7d-ee4d0bf2d077"
      },
      "execution_count": 58,
      "outputs": [
        {
          "output_type": "execute_result",
          "data": {
            "text/plain": [
              "<matplotlib.axes._subplots.AxesSubplot at 0x7fb9d832e990>"
            ]
          },
          "metadata": {},
          "execution_count": 58
        },
        {
          "output_type": "display_data",
          "data": {
            "text/plain": [
              "<Figure size 432x288 with 3 Axes>"
            ],
            "image/png": "[encoded data removed]"
          },
          "metadata": {
            "needs_background": "light"
          }
        }
      ]
    },
    {
      "cell_type": "markdown",
      "source": [
        "# 2.0. Feature Engineering"
      ],
      "metadata": {
        "id": "TFKsLp7_6cJQ"
      }
    },
    {
      "cell_type": "markdown",
      "source": [
        "## Mapa Mental de Hiphothesis"
      ],
      "metadata": {
        "id": "kGjheEOfA8YJ"
      }
    },
    {
      "cell_type": "code",
      "source": [
        "Image( '/content/MindMapHypothesis.png' )"
      ],
      "metadata": {
        "colab": {
          "base_uri": "https://localhost:8080/",
          "height": 1000
        },
        "id": "y_teHmfUF5C6",
        "outputId": "81131f9b-630d-4f0b-f4ee-5fbefab66649"
      },
      "execution_count": 61,
      "outputs": [
        {
          "output_type": "execute_result",
          "data": {
            "text/plain": [
              "<IPython.core.display.Image object>"
            ],
            "image/png": "[encoded data removed]"
          },
          "metadata": {},
          "execution_count": 61
        }
      ]
    },
    {
      "cell_type": "markdown",
      "source": [
        "## 2.1. Criação das Hipóthesis"
      ],
      "metadata": {
        "id": "gxwuSsQwBGl7"
      }
    },
    {
      "cell_type": "markdown",
      "source": [
        "### 2.1.1. Hipoteses Loja"
      ],
      "metadata": {
        "id": "IIeGpO8WBOhb"
      }
    },
    {
      "cell_type": "markdown",
      "source": [
        "#### 1 - Lojas com maior quadro de funionários deveriam vender mais.\n",
        "#### 2 - Lojas com maior capacidade de estoque deveriam vender mais.\n",
        "#### 3 - Lojas com maior porte deveriam vender mais.\n",
        "#### 4 - Lojas com maior sortimento deveriam vender mais.\n",
        "#### 5 - Lojas com competidores mais próximos deveriam vender menos\n",
        "#### 6 - Lojas com competidores à mais tempo deveriam vender mais."
      ],
      "metadata": {
        "id": "jf1CVuQaCAGN"
      }
    },
    {
      "cell_type": "markdown",
      "source": [
        "### 2.1.2. Hipoteses do Produto"
      ],
      "metadata": {
        "id": "EkcJPsGnBOYC"
      }
    },
    {
      "cell_type": "markdown",
      "source": [
        "#### 1 - Lojas que investem mais em Marketing deveriam vender mais.\n",
        "#### 2 - Lojas com maior exposição de produto deveriam vender mais.\n",
        "#### 3 - Lojas com produtos com preço menor deveriam vender mais.\n",
        "#### 4 - Lojas com promoções mais agressivas ( descontos maiores ), deveriam vender mais.\n",
        "#### 5 - Lojas com promoções ativas por mais tempo deveriam vender mais.\n",
        "#### 6 - Lojas com mais dias de promoção deveriam vender mais.\n",
        "#### 7 - Lojas com mais promoções consecutivas deveriam vender mais."
      ],
      "metadata": {
        "id": "Dwrz85OvCnP2"
      }
    },
    {
      "cell_type": "markdown",
      "source": [
        "### 2.1.3. Hipóteses Tempo"
      ],
      "metadata": {
        "id": "GZyaEfHNBOVa"
      }
    },
    {
      "cell_type": "markdown",
      "source": [
        "#### 1 - Lojas abertas durante o feriado de Natal deveriam vender mais.\n",
        "#### 2 - Lojas deveriam vender mais ao longo dos anos.\n",
        "#### 3 - Lojas deveriam vender mais no segundo semestre do ano.\n",
        "#### 4 - Lojas deveriam vender mais depois do dia 10 de cada mês.\n",
        "#### 5 - Lojas deveriam vender menos aos finais de semana.\n",
        "#### 6 - Lojas deveriam vender menos durante os feriados escolares."
      ],
      "metadata": {
        "id": "arfhsqXhDGzs"
      }
    },
    {
      "cell_type": "markdown",
      "source": [
        "## 2.2. Lista final de Hipóteses"
      ],
      "metadata": {
        "id": "jTDY4QSoGJ-Q"
      }
    },
    {
      "cell_type": "markdown",
      "source": [
        "#### 1 - Lojas com maior sortimento deveriam vender mais.\n",
        "#### 2 - Lojas com competidores mais próximos deveriam vender menos\n",
        "#### 3 - Lojas com competidores à mais tempo deveriam vender mais.\n",
        "\n",
        "#### 4 - Lojas com promoções ativas por mais tempo deveriam vender mais.\n",
        "#### 5 - Lojas com mais dias de promoção deveriam vender mais.\n",
        "#### 6 - Lojas com mais promoções consecutivas deveriam vender mais.\n",
        "\n",
        "#### 7 - Lojas abertas durante o feriado de Natal deveriam vender mais.\n",
        "#### 8 - Lojas deveriam vender mais ao longo dos anos.\n",
        "#### 9 - Lojas deveriam vender mais no segundo semestre do ano.\n",
        "#### 10 - Lojas deveriam vender mais depois do dia 10 de cada mês.\n",
        "#### 11 - Lojas deveriam vender menos aos finais de semana.\n",
        "#### 12 - Lojas deveriam vender menos durante os feriados escolares."
      ],
      "metadata": {
        "id": "HsEvJYkPGw0h"
      }
    },
    {
      "cell_type": "code",
      "source": [
        ""
      ],
      "metadata": {
        "id": "9FYUAqg7ADsR"
      },
      "execution_count": null,
      "outputs": []
    }
  ]
}